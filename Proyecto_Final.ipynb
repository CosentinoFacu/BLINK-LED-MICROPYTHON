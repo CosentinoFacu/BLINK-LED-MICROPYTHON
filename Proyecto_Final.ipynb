{
  "nbformat": 4,
  "nbformat_minor": 0,
  "metadata": {
    "colab": {
      "provenance": [],
      "authorship_tag": "ABX9TyPvHhw9AOmvTEHw3sSwEUsk",
      "include_colab_link": true
    },
    "kernelspec": {
      "name": "python3",
      "display_name": "Python 3"
    },
    "language_info": {
      "name": "python"
    }
  },
  "cells": [
    {
      "cell_type": "markdown",
      "metadata": {
        "id": "view-in-github",
        "colab_type": "text"
      },
      "source": [
        "<a href=\"https://colab.research.google.com/github/CosentinoFacu/BLINK-LED-MICROPYTHON/blob/main/Proyecto_Final.ipynb\" target=\"_parent\"><img src=\"https://colab.research.google.com/assets/colab-badge.svg\" alt=\"Open In Colab\"/></a>"
      ]
    },
    {
      "cell_type": "code",
      "execution_count": 1,
      "metadata": {
        "id": "TQzKlE4Q3rA3"
      },
      "outputs": [],
      "source": [
        "import numpy as np\n",
        "import math\n",
        "import matplotlib.pyplot as plt\n",
        "from sklearn.preprocessing import StandardScaler\n",
        "from sklearn.model_selection import train_test_split\n",
        "from sklearn.cluster import KMeans \n",
        "import random\n",
        "from matplotlib.colors import ListedColormap\n",
        "\n",
        "np.set_printoptions(suppress=True)"
      ]
    },
    {
      "cell_type": "code",
      "source": [
        "tmuestras = 200\n",
        "clases = 5\n",
        "muestras = np.array(  [[-0.9118404218 ,-0.1248241513  , 1],   \n",
        "                      [-0.9118404218  ,-0.1248241513  , 1],\n",
        "                      [-0.9409335471\t,-0.0584220945  , 1],\n",
        "                      [-0.9721073134\t,-0.07585272834 , 1],\n",
        "                      [-0.7632304408\t,-0.04015564927 , 1],\n",
        "                      [-0.8124212591\t,-0.0781940697  , 1],\n",
        "                      [-0.7136956468\t,-0.1381971885  , 1],\n",
        "                      [-0.8512302226\t,-0.05959761213 , 1],\n",
        "                      [-0.7226197683\t,-0.1305462827  , 1],\n",
        "                      [-0.8546472468\t,-0.1443878509  , 1],\n",
        "                      [-0.7344238538\t,-0.1306159841  , 1],\n",
        "                      [-0.8516623988\t,-0.04637356375 , 1],\n",
        "                      [-0.9518898012\t,-0.1013800898  , 1],\n",
        "                      [-0.9571408503\t,-0.1022983806  , 1],\n",
        "                      [-0.8734442484\t,-0.1016630056  , 1],\n",
        "                      [-0.916829959\t  ,-0.0855764081  , 1],\n",
        "                      [-0.8939101896\t,-0.1248466656  , 1],\n",
        "                      [-0.9781798449\t,-0.05683856669 , 1],\n",
        "                      [-0.9575094015\t,-0.09597258458 , 1],\n",
        "                      [-0.9439316097\t,-0.1077617518  , 1],\n",
        "                      [-0.9961038444\t,0.100382376    , 1],\n",
        "                      [-0.7720013608\t,0.05027496998  , 1],\n",
        "                      [-0.7050219363\t,0.04983718018  , 1],\n",
        "                      [-0.9734086394\t,0.05737616091  , 1],\n",
        "                      [-0.9994595821\t,0.05435966013  , 1],\n",
        "                      [-0.8167047604\t,0.1238738864   , 1],\n",
        "                      [-0.8846504799\t,0.005260882425 , 1],\n",
        "                      [-0.9312692656\t,0.06510121707  , 1],\n",
        "                      [-0.9694245783\t,0.09153801451  , 1],\n",
        "                      [-0.8091642494\t,0.1302446881   , 1],\n",
        "                      [-0.7825593776\t,0.06299420101  , 1],\n",
        "                      [-0.9551007665\t,0.08085099749  , 1],\n",
        "                      [-0.7068727997\t,0.0471555478   , 1],\n",
        "                      [-0.7191126901\t,0.1132528504   , 1],\n",
        "                      [-0.7918388056\t,0.106439089    , 1],\n",
        "                      [-0.7638203955\t,0.0368636318   , 1],\n",
        "                      [-0.9908293255\t,0.02503791425  , 1],\n",
        "                      [-0.9636786576\t,0.09367006391  , 1],\n",
        "                      [-0.8351903354\t,0.1347919617   , 1],\n",
        "                      [-0.9136988986\t,0.04892772836  , 1],\n",
        "                      [0.8516530161\t  ,0.1457441919   , 2],\n",
        "                      [0.8002566315\t  ,0.06369962286  , 2],\n",
        "                      [0.7914505283\t  ,0.09632639872  , 2],\n",
        "                      [0.7689120849\t  ,0.1006783549   , 2],\n",
        "                      [0.8333342649\t  ,0.03714215545  , 2],\n",
        "                      [0.8431452619\t  ,0.111685064    , 2],\n",
        "                      [0.8629549291\t  ,0.09107090631  , 2],\n",
        "                      [0.7489846812\t  ,0.141372347    , 2],\n",
        "                      [0.9629511517\t  ,0.1299207315   , 2],\n",
        "                      [0.7205093003\t  ,0.02840976609  , 2],\n",
        "                      [0.8244390827\t  ,0.0998401098   , 2],\n",
        "                      [0.867469773\t  ,0.119702908    , 2],\n",
        "                      [0.9820944161\t  ,0.1141123736   , 2],\n",
        "                      [0.9323100036\t  ,0.05486416285  , 2],\n",
        "                      [0.941568549\t  ,0.02447047438  , 2],\n",
        "                      [0.8834180965\t  ,0.02755639747  , 2],\n",
        "                      [0.7490564367\t  ,0.04157257029  , 2],\n",
        "                      [0.7580921699\t  ,0.1057807844   , 2],\n",
        "                      [0.8913737235\t  ,0.09937856305  , 2],\n",
        "                      [0.97852028\t    ,0.1184559023   , 2],\n",
        "                      [0.9694019294\t  ,-0.0186898926  , 2],\n",
        "                      [0.9091357584\t  ,-0.05748546608 , 2],\n",
        "                      [0.7776555398\t  ,-0.005604951222, 2],\n",
        "                      [0.8945463186\t  ,-0.0001529087597,2],\n",
        "                      [0.8033856079\t  ,-0.103863568   , 2],\n",
        "                      [0.7778120498\t  ,-0.04129848649 , 2],\n",
        "                      [0.9963689454\t  ,-0.02548914866 , 2],\n",
        "                      [0.8615671327\t  ,-0.008982804093, 2],\n",
        "                      [0.9075868384\t  ,-0.1054868527  , 2],\n",
        "                      [0.7751812687\t  ,-0.03484252793 , 2],\n",
        "                      [0.7645553221\t  ,-0.1190409908  , 2],\n",
        "                      [0.9841181606\t  ,-0.1051915908  , 2],\n",
        "                      [0.8922523744\t  ,-0.1183130861  , 2],\n",
        "                      [0.7305835343\t  ,-0.1431749135  , 2],\n",
        "                      [0.9614536371\t  ,-0.0319312032  , 2],\n",
        "                      [0.7836175261\t  ,-0.03347063462 , 2],\n",
        "                      [0.9968342968\t  ,-0.08915745717 , 2],\n",
        "                      [0.8815647873\t  ,-0.05965952682 , 2],\n",
        "                      [0.9123536075\t  ,-0.1098189359  , 2],\n",
        "                      [0.9483783121\t  ,-0.1214029568  , 2],\n",
        "                      [-0.00204076459\t,-0.8661974451  , 3],\n",
        "                      [-0.08728146744\t,-0.8110673614  , 3],\n",
        "                      [-0.05872859901\t,-0.7191421188  , 3],\n",
        "                      [-0.0138945949\t,-0.8665668173  , 3],\n",
        "                      [-0.08508479383\t,-0.8176708385  , 3],\n",
        "                      [-0.1302720241\t,-0.8724796711  , 3],\n",
        "                      [-0.01067934989\t,-0.7414378332  , 3],\n",
        "                      [-0.06046567929\t,-0.9713644129  , 3],\n",
        "                      [-0.1271607994\t,-0.7235637735  , 3],\n",
        "                      [-0.02791726534\t,-0.9992634923  , 3],\n",
        "                      [-0.01063344403\t,-0.842766492   , 3],\n",
        "                      [-0.07969935727\t,-0.9342541455  , 3],\n",
        "                      [-0.06210919045\t,-0.7242484232  , 3],\n",
        "                      [-0.1293995073\t,-0.7353947634  , 3],\n",
        "                      [-0.01450181033\t,-0.804410633   , 3],\n",
        "                      [-0.08096689095\t,-0.7140577457  , 3],\n",
        "                      [-0.01251802234\t,-0.714570285   , 3],\n",
        "                      [-0.142784374\t  ,-0.8337107074  , 3],\n",
        "                      [-0.02615736062\t,-0.8392095712  , 3],\n",
        "                      [0.05455122227\t,-0.9705124161  , 3],\n",
        "                      [0.0123504727\t  ,-0.9546905217  , 3],\n",
        "                      [0.02335444176\t,-0.8997865111  , 3],\n",
        "                      [0.04718148099\t,-0.7916476317  , 3],\n",
        "                      [0.06163081568\t,-0.7182484956  , 3],\n",
        "                      [-0.01251705234\t,-0.714570286   , 3],\n",
        "                      [0.1045121358\t  ,-0.8892980927  , 3],\n",
        "                      [0.1061059394\t  ,-0.8110745727  , 3],\n",
        "                      [0.0712294379\t  ,-0.812628966   , 3],\n",
        "                      [0.1337395589\t  ,-0.7203622232  , 3],\n",
        "                      [0.142069735\t  ,-0.8878356586  , 3],\n",
        "                      [0.01917460234\t,-0.7376520528  , 3],\n",
        "                      [0.1045439735\t  ,-0.7205630175  , 3],\n",
        "                      [0.1071161816\t  ,-0.8999314673  , 3],\n",
        "                      [0.07013380005\t,-0.8025684272  , 3],\n",
        "                      [0.1168610111\t  ,-0.8144578427  , 3],\n",
        "                      [0.01909747634\t,-0.8815761892  , 3],\n",
        "                      [0.1122298212\t  ,-0.7229197206  , 3],\n",
        "                      [0.1020879503\t  ,-0.8765790896  , 3],\n",
        "                      [0.04626755386\t,-0.8665599962  , 3],\n",
        "                      [0.1307318413\t  ,-0.7159817401  , 3],\n",
        "                      [0.1320788067\t  ,0.8408634192   , 4],\n",
        "                      [0.02645471927\t,0.7278491014   , 4],\n",
        "                      [0.06033846857\t,0.8312200235   , 4],\n",
        "                      [0.04149119519\t,0.7344188091   , 4],\n",
        "                      [0.08460779403\t,0.8407296006   , 4],\n",
        "                      [0.1392328235\t  ,0.8684952078   , 4],\n",
        "                      [0.1123111889\t  ,0.9710899371   , 4],\n",
        "                      [0.04310651818\t,0.7630629286   , 4],\n",
        "                      [0.07477401629\t,0.7045185156   , 4],\n",
        "                      [0.09102319417\t,0.9735145327   , 4],\n",
        "                      [0.1122415652\t  ,0.9802043075   , 4],\n",
        "                      [0.1472921482\t  ,0.8305518593   , 4],\n",
        "                      [0.1004163152\t  ,0.7993580278   , 4],\n",
        "                      [0.1186810485\t  ,0.9984549299   , 4],\n",
        "                      [0.04535724394\t,0.750285656    , 4],\n",
        "                      [0.03815302463\t,0.7361252962   , 4],\n",
        "                      [0.03314133034\t,0.8929689485   , 4],\n",
        "                      [0.04758861686\t,0.7347477108   , 4],\n",
        "                      [0.1445228692\t  ,0.9472320339   , 4],\n",
        "                      [-0.1325775471\t,0.8530970192   , 4],\n",
        "                      [-0.0809391236\t,0.8708581017   , 4],\n",
        "                      [-0.05293814385\t,0.8604416989   , 4],\n",
        "                      [-0.125067532\t  ,0.8985839887   , 4],\n",
        "                      [-0.1360046928\t,0.9595960619   , 4],\n",
        "                      [-0.07317615494\t,0.7427706044   , 4],\n",
        "                      [-0.006647171575,0.7668198947   , 4],\n",
        "                      [-0.1296291824\t,0.708188734    , 4],\n",
        "                      [-0.04340517303\t,0.7497666085   , 4],\n",
        "                      [-0.1409865553\t,0.9716747295   , 4],\n",
        "                      [-0.110698026\t  ,0.9342843923   , 4],\n",
        "                      [-0.09351252691\t,0.8707390579   , 4],\n",
        "                      [-0.05870506008\t,0.8112633998   , 4],\n",
        "                      [-0.09689314398\t,0.7803299816   , 4],\n",
        "                      [-0.1278008623\t,0.8675162291   , 4],\n",
        "                      [-0.02733622987\t,0.8540794867   , 4],\n",
        "                      [-0.09020655873\t,0.702438128    , 4],\n",
        "                      [-0.1467377542  ,0.83414137     , 4],\n",
        "                      [-0.09689314398\t,0.7803299816   , 4],\n",
        "                      [-0.06632455052\t,0.9334130597   , 4],\n",
        "                      [-0.07346203714 ,0.8842620164   , 4],\n",
        "                      [0.067667264\t  ,0.010728606    , 5],\n",
        "                      [0.022990198\t  ,0.121649566    , 5],\n",
        "                      [0.145842842\t  ,0.106417819    , 5],\n",
        "                      [0.135331941\t  ,0.051287296    , 5],\n",
        "                      [0.176295729\t  ,0.090787667    , 5],\n",
        "                      [0.09643258\t    ,0.162810565    , 5],\n",
        "                      [0.04311704\t    ,0.01571047     , 5],\n",
        "                      [0.086189477\t  ,0.184189328    , 5],\n",
        "                      [0.019424889\t  ,0.171493626    , 5],\n",
        "                      [0.002925521\t  ,-0.017322374   , 5],\n",
        "                      [0.05699213\t    ,-0.173449349   , 5],\n",
        "                      [0.131840125\t  ,-0.011708952   , 5],\n",
        "                      [0.156747201\t  ,-0.109324833   , 5],\n",
        "                      [0.073933757\t  ,-0.000281117   , 5],\n",
        "                      [0.093705807\t  ,-0.182389583   , 5],\n",
        "                      [0.02395025\t    ,-0.161243658   , 5],\n",
        "                      [0.035308438\t  ,-0.009176864   , 5],\n",
        "                      [0.026305947\t  ,-0.127495441   , 5],\n",
        "                      [0.080926694\t  ,-0.053288794   , 5],\n",
        "                      [0.028371118\t  ,-0.172887898   , 5],\n",
        "                      [-0.090972337\t  ,0.130428739    , 5],\n",
        "                      [-0.108711345\t  ,0.082869365    , 5],\n",
        "                      [-0.060303757\t  ,0.171968097    , 5],\n",
        "                      [-0.000151\t    ,0.029786851    , 5],\n",
        "                      [-0.095537566\t  ,0.129492365    , 5],\n",
        "                      [-0.024566359\t  ,0.19200201     , 5],\n",
        "                      [-0.069904555\t  ,0.11749866     , 5],\n",
        "                      [-0.133623923\t  ,0.019334764    , 5],\n",
        "                      [-0.139805324\t  ,0.107218352    , 5],\n",
        "                      [-0.14361892\t  ,0.12240712     , 5],\n",
        "                      [-0.09644746\t  ,-0.039466087   , 5],\n",
        "                      [-0.016028864\t  ,-0.091741194   , 5],\n",
        "                      [-0.025879966\t  ,-0.036634952   , 5],\n",
        "                      [-0.082505625\t  ,-0.170940888   , 5],\n",
        "                      [-0.084100834\t  ,-0.118125373   , 5],\n",
        "                      [-0.173532141\t  ,-0.084821537   , 5],\n",
        "                      [-0.150496904\t  ,-0.035873722   , 5],\n",
        "                      [-0.123386903\t  ,-0.076190617   , 5],\n",
        "                      [-0.052425062\t  ,-0.05129805    , 5],\n",
        "                      [-0.083393524\t  ,-0.077011422   , 5]]).reshape((tmuestras),3)"
      ],
      "metadata": {
        "id": "pwSjyL8R35kX"
      },
      "execution_count": 2,
      "outputs": []
    },
    {
      "cell_type": "code",
      "source": [
        "#Graficamos los datos\n",
        "plt.scatter(muestras[:,0],muestras[:,1])\n",
        "plt.show()"
      ],
      "metadata": {
        "colab": {
          "base_uri": "https://localhost:8080/",
          "height": 265
        },
        "id": "9OtojzvgeBOA",
        "outputId": "7aaffe0f-ad7a-4a33-f2c5-6ecc3990c37d"
      },
      "execution_count": 3,
      "outputs": [
        {
          "output_type": "display_data",
          "data": {
            "text/plain": [
              "<Figure size 432x288 with 1 Axes>"
            ],
            "image/png": "[encoded data removed]"
          },
          "metadata": {
            "needs_background": "light"
          }
        }
      ]
    },
    {
      "cell_type": "code",
      "source": [
        "x1= int((tmuestras / clases))\n",
        "\n",
        "X = muestras[:,:2]\n",
        "X1 = muestras[:x1,:]\n",
        "X2 = muestras[x1:x1*2,:]\n",
        "X3 = muestras[x1*2:x1*3,:]\n",
        "X4 = muestras[x1*3:x1*4,:]\n",
        "X5 = muestras[x1*4:x1*5,:]\n",
        "\n",
        "y = muestras[:,2].reshape(tmuestras,1)\n",
        "\n",
        "'''\n",
        "print(X1)\n",
        "print(\"---------------------------------------\")\n",
        "print(X2)\n",
        "print(\"---------------------------------------\")\n",
        "print(X3)\n",
        "print(\"---------------------------------------\")\n",
        "print(X4)\n",
        "print(\"---------------------------------------\")\n",
        "print(X5)\n",
        "'''"
      ],
      "metadata": {
        "id": "Xx6h61ALKZEg",
        "colab": {
          "base_uri": "https://localhost:8080/",
          "height": 70
        },
        "outputId": "0a635254-3eea-4d9d-db1d-01516de528e7"
      },
      "execution_count": 4,
      "outputs": [
        {
          "output_type": "execute_result",
          "data": {
            "text/plain": [
              "'\\nprint(X1)\\nprint(\"---------------------------------------\")\\nprint(X2)\\nprint(\"---------------------------------------\")\\nprint(X3)\\nprint(\"---------------------------------------\")\\nprint(X4)\\nprint(\"---------------------------------------\")\\nprint(X5)\\n'"
            ],
            "application/vnd.google.colaboratory.intrinsic+json": {
              "type": "string"
            }
          },
          "metadata": {},
          "execution_count": 4
        }
      ]
    },
    {
      "cell_type": "code",
      "source": [
        "plt.scatter(X1[:,0],X1[:,1],marker='o',color='red')\n",
        "plt.scatter(X2[:,0],X2[:,1],marker='o',color='blue')\n",
        "plt.scatter(X3[:,0],X3[:,1],marker='o',color='black')\n",
        "plt.scatter(X4[:,0],X4[:,1],marker='o',color='purple')\n",
        "plt.scatter(X5[:,0],X5[:,1],marker='o',color='orange')"
      ],
      "metadata": {
        "colab": {
          "base_uri": "https://localhost:8080/",
          "height": 282
        },
        "id": "l9lYHEMtlaas",
        "outputId": "9615e221-6039-40ce-ddbd-a0849909c0dd"
      },
      "execution_count": 5,
      "outputs": [
        {
          "output_type": "execute_result",
          "data": {
            "text/plain": [
              "<matplotlib.collections.PathCollection at 0x7fdc847c4130>"
            ]
          },
          "metadata": {},
          "execution_count": 5
        },
        {
          "output_type": "display_data",
          "data": {
            "text/plain": [
              "<Figure size 432x288 with 1 Axes>"
            ],
            "image/png": "[encoded data removed]"
          },
          "metadata": {
            "needs_background": "light"
          }
        }
      ]
    },
    {
      "cell_type": "code",
      "source": [
        "'''\n",
        "Separamos datos en: - conjunto de entrenamiento\n",
        "                    - y congunto de prueba\n",
        "\n",
        "Normalizamos los datos\n",
        "'''\n",
        "X_train, X_test, y_train, y_test = train_test_split(X,y,test_size=.2,random_state=1,stratify=y) \n",
        "\n",
        "'''\n",
        "print(X_train)\n",
        "print(\"--------------------\")\n",
        "print(X_test)\n",
        "print(\"--------------------\")\n",
        "print(y_train)\n",
        "print(\"--------------------\")\n",
        "print(y_test)\n",
        "'''\n",
        "sc=StandardScaler()\n",
        "sc.fit(X)   #media y desviacion estandar de X\n",
        "\n",
        "X_std=sc.transform(X)\n",
        "X_train_std=sc.transform(X_train)\n",
        "X_test_std=sc.transform(X_test)\n",
        "\n",
        "#Graficamos los datos normalizados\n",
        "\n",
        "plt.scatter(X_std[:,0],X_std[:,1])\n",
        "plt.show()\n",
        "'''\n",
        "media = sc.mean_\n",
        "des_std = np.sqrt(sc.var_)\n",
        "print(media)\n",
        "print(des_std)\n",
        "print(X_std[1,:])\n",
        "print(X[1,:])\n",
        "print((-0.91184042 + 0.00112202)/0.61907537)\n",
        "'''\n"
      ],
      "metadata": {
        "colab": {
          "base_uri": "https://localhost:8080/",
          "height": 303
        },
        "id": "eSKB_z8IDQSe",
        "outputId": "77f5cc53-9182-4dc3-91aa-31a7fd604a67"
      },
      "execution_count": 6,
      "outputs": [
        {
          "output_type": "display_data",
          "data": {
            "text/plain": [
              "<Figure size 432x288 with 1 Axes>"
            ],
            "image/png": "[encoded data removed]"
          },
          "metadata": {
            "needs_background": "light"
          }
        },
        {
          "output_type": "execute_result",
          "data": {
            "text/plain": [
              "'\\nmedia = sc.mean_\\ndes_std = np.sqrt(sc.var_)\\nprint(media)\\nprint(des_std)\\nprint(X_std[1,:])\\nprint(X[1,:])\\nprint((-0.91184042 + 0.00112202)/0.61907537)\\n'"
            ],
            "application/vnd.google.colaboratory.intrinsic+json": {
              "type": "string"
            }
          },
          "metadata": {},
          "execution_count": 6
        }
      ]
    },
    {
      "cell_type": "code",
      "source": [
        "'''Funcion para calcular\n",
        "la maxima distancia entre centros\n",
        "'''\n",
        "\n",
        "def maxdist(centros):\n",
        "  #centros=np.random.rand(4,2)\n",
        "  dist = list()\n",
        "  mayor=0\n",
        "\n",
        "  #print(\"-------------\")\n",
        "  #print(centros)\n",
        "  #print(\"-------------\")\n",
        "\n",
        "  plt.scatter(centros[:,0],centros[:,1],marker='o',color='blue')\n",
        "\n",
        "  for j in range(len(centros)):\n",
        "    c0=centros[j,:].reshape(1,2)\n",
        "    for i in range(len(centros)):\n",
        "      c1=centros[i,:].reshape(1,2)\n",
        "      aux=np.linalg.norm(c0-c1)\n",
        "      if(aux > mayor):\n",
        "        mayor=aux\n",
        "        dist.append(aux)\n",
        "        maxj=j\n",
        "        maxi=i\n",
        "\n",
        "  c0=centros[maxj,:]\n",
        "  c1=centros[maxi,:]\n",
        "  #print(c0)\n",
        "  #print(c1)\n",
        "  plt.plot([c0[0],c1[0]],[c0[1],c1[1]],color='black')\n",
        "  return mayor"
      ],
      "metadata": {
        "id": "UEtH3FOyl_b8"
      },
      "execution_count": 7,
      "outputs": []
    },
    {
      "cell_type": "code",
      "source": [
        "K = clases\n",
        "kmeans = KMeans(n_clusters=K, random_state=0, max_iter=300).fit(X_std)\n",
        "centros=kmeans.cluster_centers_\n",
        "\n",
        "print(\"Los centros son:\")\n",
        "print(centros)\n",
        "\n",
        "epsilon=((maxdist(centros))/np.sqrt(2*K))\n",
        "print(epsilon)\n",
        "\n",
        "plt.scatter(X_std[:,0],X_std[:,1],marker='o',color='red')\n",
        "plt.scatter(centros[:,0],centros[:,1],marker='o',color='blue')\n",
        "plt.show()"
      ],
      "metadata": {
        "colab": {
          "base_uri": "https://localhost:8080/",
          "height": 389
        },
        "id": "UsbiWbyDmPG8",
        "outputId": "c7c9be10-197f-46cb-f367-9b57de889d87"
      },
      "execution_count": 8,
      "outputs": [
        {
          "output_type": "stream",
          "name": "stdout",
          "text": [
            "Los centros son:\n",
            "[[-0.00742644  0.00076578]\n",
            " [-0.01039912  1.56644566]\n",
            " [-1.56241219 -0.03057819]\n",
            " [ 1.55789676  0.01021902]\n",
            " [ 0.02234098 -1.54685227]]\n",
            "0.9868126664126793\n"
          ]
        },
        {
          "output_type": "display_data",
          "data": {
            "text/plain": [
              "<Figure size 432x288 with 1 Axes>"
            ],
            "image/png": "[encoded data removed]"
          },
          "metadata": {
            "needs_background": "light"
          }
        }
      ]
    },
    {
      "cell_type": "code",
      "source": [
        "'''\n",
        "Creamos la matriz G, su psudoinversa y matrix de pesos W\n",
        "'''\n",
        "G=np.ones((tmuestras,K))\n",
        "\n",
        "'''\n",
        "a = (1, 2)\n",
        "b = (4, 5)\n",
        "\n",
        "print(centros[0])\n",
        "print(X_std[0])\n",
        "\n",
        "print(math.dist(centros[0],X_std[0]))\n",
        "\n",
        "dif = math.dist(centros[0],X_std[0])\n",
        "salida=np.exp((-1/(epsilon**2))*dif**2)\n",
        "\n",
        "print(salida)\n",
        "'''\n",
        "for i in range(K):\n",
        "  for j in range(tmuestras):\n",
        "    dif = math.dist(centros[i],X_std[j])\n",
        "    salida=np.exp((-1/(epsilon**2))*dif**2)\n",
        "    G[j,i]=salida\n",
        "\n",
        "print(G.shape)\n",
        "\n",
        "G_inv=np.linalg.pinv(G)\n",
        "W=np.dot(G_inv,y)\n",
        "print(G.shape)\n",
        "print(W.shape)\n",
        "\n"
      ],
      "metadata": {
        "colab": {
          "base_uri": "https://localhost:8080/"
        },
        "id": "bp0hzf76nf38",
        "outputId": "41612449-e203-4002-c57e-ca83f0bbf132"
      },
      "execution_count": 9,
      "outputs": [
        {
          "output_type": "stream",
          "name": "stdout",
          "text": [
            "(200, 5)\n",
            "(200, 5)\n",
            "(5, 1)\n"
          ]
        }
      ]
    },
    {
      "cell_type": "code",
      "source": [
        "i=0\n",
        "\n",
        "'''print(\"El dato es:\"+str(X[i]))\n",
        "print(\"El dato es normalizado es:\"+str(X_std[i]))\n",
        "print(\"La pseudo muestra es:\"+str(G[i]))\n",
        "print(\"La columna de pesos es:\"+str(W))\n",
        "print(\"El producto de G por W es:\"+str(np.round(np.dot(G[i],W))))\n",
        "'''\n",
        "\n",
        "#print(\"El producto de dato por W es:\"+str((np.dot(data,W))))\n"
      ],
      "metadata": {
        "colab": {
          "base_uri": "https://localhost:8080/",
          "height": 53
        },
        "id": "BB-xW1Cz3bqU",
        "outputId": "006fe456-1ddd-436d-cdc8-307291d10604"
      },
      "execution_count": 11,
      "outputs": [
        {
          "output_type": "execute_result",
          "data": {
            "text/plain": [
              "'print(\"El dato es:\"+str(X[i]))\\nprint(\"El dato es normalizado es:\"+str(X_std[i]))\\nprint(\"La pseudo muestra es:\"+str(G[i]))\\nprint(\"La columna de pesos es:\"+str(W))\\nprint(\"El producto de G por W es:\"+str(np.round(np.dot(G[i],W))))\\n'"
            ],
            "application/vnd.google.colaboratory.intrinsic+json": {
              "type": "string"
            }
          },
          "metadata": {},
          "execution_count": 11
        }
      ]
    },
    {
      "cell_type": "code",
      "source": [
        "'''\n",
        "Creamos red neuronal\n",
        "'''\n",
        "\n",
        "def redneuronal(x):\n",
        "  print(x)\n",
        "  Gp=np.ones((1,5))\n",
        "\n",
        "  for i in range(5):\n",
        "    #dif = math.dist(centros[i],x[0])\n",
        "    dif = np.linalg.norm(centros[i]-x)\n",
        "    print(\"centro\",str(centros[i]),\"punto\",str(x),\"distancia\",str(dif))\n",
        "    salida=np.exp((-1/(epsilon**2))*dif**2)\n",
        "    Gp[0,i]=salida\n",
        "\n",
        "  print(Gp)\n",
        "  print(W)\n",
        "  return np.dot(Gp[0],W)\n",
        "\n",
        "  #data = np.array([xx1[0,54],xx2[0,54]]) \n",
        "print(np.array([xx1[0,54],xx2[0,54]]))\n",
        "data = np.array([-0.92,-2]) \n",
        "print(data)\n",
        "print(redneuronal(data))\n",
        "\n",
        "print(\"--------------------------\")\n",
        "print(Z[0,54])"
      ],
      "metadata": {
        "id": "FLFU0--uHKrr",
        "colab": {
          "base_uri": "https://localhost:8080/"
        },
        "outputId": "4b84c44f-d3f7-4c65-ad06-6c50b54993d3"
      },
      "execution_count": 45,
      "outputs": [
        {
          "output_type": "stream",
          "name": "stdout",
          "text": [
            "[-0.92 -2.  ]\n",
            "[-0.92 -2.  ]\n",
            "[-0.92 -2.  ]\n",
            "centro [-0.00742644  0.00076578] punto [-0.92 -2.  ] distancia 2.199057570876978\n",
            "centro [-0.01039912  1.56644566] punto [-0.92 -2.  ] distancia 3.6806125076475484\n",
            "centro [-1.56241219 -0.03057819] punto [-0.92 -2.  ] distancia 2.0715491008500417\n",
            "centro [1.55789676 0.01021902] punto [-0.92 -2.  ] distancia 3.190760550978731\n",
            "centro [ 0.02234098 -1.54685227] punto [-0.92 -2.  ] distancia 1.0456334865038508\n",
            "[[0.00697121 0.00000091 0.01219442 0.00002881 0.32537831]]\n",
            "[[4.46437526]\n",
            " [3.79748546]\n",
            " [0.5845312 ]\n",
            " [1.64355848]\n",
            " [2.69977957]]\n",
            "[0.91675065]\n",
            "--------------------------\n",
            "0.0\n"
          ]
        }
      ]
    },
    {
      "cell_type": "code",
      "source": [
        "data = np.array([0.5, 1])\n",
        "\n",
        "#resultado = redneuronal(data)\n",
        "#print(resultado)\n",
        "#plt.scatter(data[0],data[1])"
      ],
      "metadata": {
        "id": "3ov4ps9KX9mz"
      },
      "execution_count": 13,
      "outputs": []
    },
    {
      "cell_type": "code",
      "source": [
        "def resultado(num_decimal,porcentaje):\n",
        "    num_rodondeado = round(num_decimal)\n",
        "    low = num_rodondeado * (1 - (porcentaje/100))\n",
        "    up  = num_rodondeado * (1 + (porcentaje/100))\n",
        "    if low <= num_decimal <= up:\n",
        "        return num_rodondeado\n",
        "    else:\n",
        "        return 0\n",
        "\n",
        "data = float(Z[10,10])\n",
        "\n",
        "print([Z[10,10]])\n",
        "print(data)\n",
        "print(resultado(data,10))"
      ],
      "metadata": {
        "id": "Md4WYNS2AZpX",
        "colab": {
          "base_uri": "https://localhost:8080/"
        },
        "outputId": "5fbed226-8a49-492c-d31b-817de5d09f94"
      },
      "execution_count": 25,
      "outputs": [
        {
          "output_type": "stream",
          "name": "stdout",
          "text": [
            "[0.11154422567789232]\n",
            "0.11154422567789232\n",
            "0\n"
          ]
        }
      ]
    },
    {
      "cell_type": "code",
      "source": [
        "colors = (('white','red','blue','black','purple','orange'))\n",
        "cmap = ListedColormap(colors[:len(np.unique(y))])\n",
        "resolution=0.02\n",
        "\n",
        "# representa la superficie de decisión \n",
        "x1_min, x1_max = -2,2\n",
        "x2_min, x2_max = -2,2\n",
        "xx1, xx2 = np.meshgrid(np.arange(x1_min, x1_max, resolution),\n",
        "                           np.arange(x2_min, x2_max, resolution))\n",
        "print(xx1)\n",
        "print(xx2)\n",
        "\n",
        "Z = np.zeros(xx1.shape)\n",
        "\n",
        "print(Z.shape)\n",
        "\n",
        "'''\n",
        "for i in range(xx1.shape[0]):\n",
        "  for j in range(xx1.shape[1]):\n",
        "    data = np.array([xx1[i,j],xx2[i,j]]) \n",
        "    Z[i,j] = resultado(redneuronal(data),10)'''\n",
        "\n",
        "\n",
        "Z = np.zeros(xx1.shape)\n",
        "\n",
        "for i in range(xx1.shape[0]):\n",
        "    for j in range(xx1.shape[1]):\n",
        "        data = np.array([xx1[i,j],xx2[i,j]]) \n",
        "        Z[i,j] = resultado(float(redneuronal(data)),5)\n",
        "\n",
        "plt.contourf(xx1, xx2, Z, alpha=0.3, cmap=cmap)\n",
        "plt.xlim(xx1.min(), xx1.max())\n",
        "plt.ylim(xx2.min(), xx2.max())"
      ],
      "metadata": {
        "colab": {
          "base_uri": "https://localhost:8080/",
          "height": 543
        },
        "id": "EsGSDKcD-fYB",
        "outputId": "6fe9b42e-7601-49f5-f780-8dbc10a90465"
      },
      "execution_count": 41,
      "outputs": [
        {
          "output_type": "stream",
          "name": "stdout",
          "text": [
            "[[-2.   -1.98 -1.96 ...  1.94  1.96  1.98]\n",
            " [-2.   -1.98 -1.96 ...  1.94  1.96  1.98]\n",
            " [-2.   -1.98 -1.96 ...  1.94  1.96  1.98]\n",
            " ...\n",
            " [-2.   -1.98 -1.96 ...  1.94  1.96  1.98]\n",
            " [-2.   -1.98 -1.96 ...  1.94  1.96  1.98]\n",
            " [-2.   -1.98 -1.96 ...  1.94  1.96  1.98]]\n",
            "[[-2.   -2.   -2.   ... -2.   -2.   -2.  ]\n",
            " [-1.98 -1.98 -1.98 ... -1.98 -1.98 -1.98]\n",
            " [-1.96 -1.96 -1.96 ... -1.96 -1.96 -1.96]\n",
            " ...\n",
            " [ 1.94  1.94  1.94 ...  1.94  1.94  1.94]\n",
            " [ 1.96  1.96  1.96 ...  1.96  1.96  1.96]\n",
            " [ 1.98  1.98  1.98 ...  1.98  1.98  1.98]]\n",
            "(200, 200)\n"
          ]
        },
        {
          "output_type": "execute_result",
          "data": {
            "text/plain": [
              "(-2.0, 1.9800000000000035)"
            ]
          },
          "metadata": {},
          "execution_count": 41
        },
        {
          "output_type": "display_data",
          "data": {
            "text/plain": [
              "<Figure size 432x288 with 1 Axes>"
            ],
            "image/png": "[encoded data removed]"
          },
          "metadata": {
            "needs_background": "light"
          }
        }
      ]
    },
    {
      "cell_type": "code",
      "source": [
        "import numpy as np\n",
        "\n",
        "# Crear una matriz numpy\n",
        "matrix = np.array([[1, 2, 3], [4, 5, 6], [7, 8, 9]])\n",
        "\n",
        "# Guardar la matriz en un archivo de texto\n",
        "np.savetxt(\"matrix.csv\", Z, delimiter=\"\\t\")"
      ],
      "metadata": {
        "id": "oUSybelLMUrX"
      },
      "execution_count": 28,
      "outputs": []
    }
  ]
}